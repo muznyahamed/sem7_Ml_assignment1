{
 "cells": [
  {
   "cell_type": "code",
   "execution_count": 30,
   "metadata": {},
   "outputs": [
    {
     "data": {
      "image/png": "[encoded data removed]",
      "text/plain": [
       "<Figure size 640x480 with 1 Axes>"
      ]
     },
     "metadata": {},
     "output_type": "display_data"
    }
   ],
   "source": [
    "import matplotlib.pyplot as plt\n",
    "import pandas as pd\n",
    "from sklearn.linear_model import LinearRegression\n",
    "# Load the data from the CSV file\n",
    "data = pd.read_csv('data.txt',header=0)\n",
    "data = data.dropna()\n",
    "# Extract the two columns to be plotted\n",
    "x = data['feature']\n",
    "y = data['output']\n",
    "# Plot the data\n",
    "plt.scatter(x, y)\n",
    "plt.xlabel('Column 1')\n",
    "plt.ylabel('Column 2')\n",
    "plt.show()"
   ]
  },
  {
   "cell_type": "code",
   "execution_count": 31,
   "metadata": {},
   "outputs": [],
   "source": [
    "columns = ['W', 'cost']\n",
    "itterations = pd.DataFrame(columns=columns)\n",
    "import numpy as np"
   ]
  },
  {
   "cell_type": "code",
   "execution_count": 32,
   "metadata": {},
   "outputs": [
    {
     "name": "stdout",
     "output_type": "stream",
     "text": [
      "Cost at iteration 0 : 2782.553917241607\n",
      "Cost at iteration 100 : 73.85113731514751\n",
      "Cost at iteration 200 : 56.437820086359146\n",
      "Cost at iteration 300 : 56.32578672245346\n",
      "Cost at iteration 400 : 56.3249767871792\n",
      "Cost at iteration 500 : 56.324881872106346\n",
      "Cost at iteration 600 : 56.324791560399106\n",
      "Cost at iteration 700 : 56.32470128505536\n",
      "Cost at iteration 800 : 56.32461101671506\n",
      "Cost at iteration 900 : 56.32452075518895\n"
     ]
    }
   ],
   "source": [
    "\n",
    "# Define the cost function and its derivatives\n",
    "def cost(x, y, w, b):\n",
    "    m = len(y)\n",
    "    predictions = np.dot(x, w) + b\n",
    "    cost = (1/(2*m)) * np.sum(np.square(predictions-y))\n",
    "    return cost\n",
    "\n",
    "def cost_derivative_w(x, y, w, b):\n",
    "    m = len(y)\n",
    "    predictions = np.dot(x, w) + b\n",
    "    derivative = (1/m) * np.dot(x.T, predictions-y)\n",
    "    return derivative\n",
    "\n",
    "def cost_derivative_b(x, y, w, b):\n",
    "    m = len(y)\n",
    "    predictions = np.dot(x, w) + b\n",
    "    derivative = (1/m) * np.sum(predictions-y)\n",
    "    return derivative\n",
    "\n",
    "# Initialize weights and biases\n",
    "w = 0\n",
    "b = 0\n",
    "\n",
    "# Define the learning rate\n",
    "alpha = 0.00001\n",
    "\n",
    "# Perform gradient descent\n",
    "for i in range(1000):\n",
    "    # Calculate the cost and derivatives\n",
    "    current_cost = cost(x, y, w, b)\n",
    "    dw = cost_derivative_w(x, y, w, b)\n",
    "    db = cost_derivative_b(x, y, w, b)\n",
    "    \n",
    "    # Update the weights and biases\n",
    "    w = w - alpha * dw\n",
    "    b = b - alpha * db\n",
    "    itterations.loc[i]=[w,current_cost]\n",
    "    \n",
    "    # Print the cost every 100 iterations\n",
    "    if i % 100 == 0:\n",
    "        print(\"Cost at iteration\", i, \":\", current_cost)\n",
    "\n"
   ]
  },
  {
   "cell_type": "code",
   "execution_count": 33,
   "metadata": {},
   "outputs": [
    {
     "data": {
      "text/html": [
       "<div>\n",
       "<style scoped>\n",
       "    .dataframe tbody tr th:only-of-type {\n",
       "        vertical-align: middle;\n",
       "    }\n",
       "\n",
       "    .dataframe tbody tr th {\n",
       "        vertical-align: top;\n",
       "    }\n",
       "\n",
       "    .dataframe thead th {\n",
       "        text-align: right;\n",
       "    }\n",
       "</style>\n",
       "<table border=\"1\" class=\"dataframe\">\n",
       "  <thead>\n",
       "    <tr style=\"text-align: right;\">\n",
       "      <th></th>\n",
       "      <th>W</th>\n",
       "      <th>cost</th>\n",
       "    </tr>\n",
       "  </thead>\n",
       "  <tbody>\n",
       "    <tr>\n",
       "      <th>0</th>\n",
       "      <td>0.036854</td>\n",
       "      <td>2782.553917</td>\n",
       "    </tr>\n",
       "    <tr>\n",
       "      <th>1</th>\n",
       "      <td>0.072789</td>\n",
       "      <td>2648.375759</td>\n",
       "    </tr>\n",
       "    <tr>\n",
       "      <th>2</th>\n",
       "      <td>0.107828</td>\n",
       "      <td>2520.801514</td>\n",
       "    </tr>\n",
       "    <tr>\n",
       "      <th>3</th>\n",
       "      <td>0.141995</td>\n",
       "      <td>2399.506155</td>\n",
       "    </tr>\n",
       "    <tr>\n",
       "      <th>4</th>\n",
       "      <td>0.175310</td>\n",
       "      <td>2284.180650</td>\n",
       "    </tr>\n",
       "    <tr>\n",
       "      <th>...</th>\n",
       "      <td>...</td>\n",
       "      <td>...</td>\n",
       "    </tr>\n",
       "    <tr>\n",
       "      <th>995</th>\n",
       "      <td>1.478862</td>\n",
       "      <td>56.324435</td>\n",
       "    </tr>\n",
       "    <tr>\n",
       "      <th>996</th>\n",
       "      <td>1.478862</td>\n",
       "      <td>56.324434</td>\n",
       "    </tr>\n",
       "    <tr>\n",
       "      <th>997</th>\n",
       "      <td>1.478862</td>\n",
       "      <td>56.324433</td>\n",
       "    </tr>\n",
       "    <tr>\n",
       "      <th>998</th>\n",
       "      <td>1.478862</td>\n",
       "      <td>56.324432</td>\n",
       "    </tr>\n",
       "    <tr>\n",
       "      <th>999</th>\n",
       "      <td>1.478862</td>\n",
       "      <td>56.324431</td>\n",
       "    </tr>\n",
       "  </tbody>\n",
       "</table>\n",
       "<p>1000 rows × 2 columns</p>\n",
       "</div>"
      ],
      "text/plain": [
       "            W         cost\n",
       "0    0.036854  2782.553917\n",
       "1    0.072789  2648.375759\n",
       "2    0.107828  2520.801514\n",
       "3    0.141995  2399.506155\n",
       "4    0.175310  2284.180650\n",
       "..        ...          ...\n",
       "995  1.478862    56.324435\n",
       "996  1.478862    56.324434\n",
       "997  1.478862    56.324433\n",
       "998  1.478862    56.324432\n",
       "999  1.478862    56.324431\n",
       "\n",
       "[1000 rows x 2 columns]"
      ]
     },
     "execution_count": 33,
     "metadata": {},
     "output_type": "execute_result"
    }
   ],
   "source": [
    "itterations"
   ]
  },
  {
   "cell_type": "code",
   "execution_count": 34,
   "metadata": {},
   "outputs": [
    {
     "data": {
      "image/png": "[encoded data removed]",
      "text/plain": [
       "<Figure size 640x480 with 1 Axes>"
      ]
     },
     "metadata": {},
     "output_type": "display_data"
    }
   ],
   "source": [
    "x = itterations['W']\n",
    "y = itterations['cost']\n",
    "# Plot the data\n",
    "plt.plot(x, y,\"r--\")\n",
    "plt.xlabel('Column 1')\n",
    "plt.ylabel('Column 2')\n",
    "plt.show()"
   ]
  },
  {
   "cell_type": "code",
   "execution_count": null,
   "metadata": {},
   "outputs": [],
   "source": []
  }
 ],
 "metadata": {
  "kernelspec": {
   "display_name": "Python 3",
   "language": "python",
   "name": "python3"
  },
  "language_info": {
   "codemirror_mode": {
    "name": "ipython",
    "version": 3
   },
   "file_extension": ".py",
   "mimetype": "text/x-python",
   "name": "python",
   "nbconvert_exporter": "python",
   "pygments_lexer": "ipython3",
   "version": "3.10.8"
  },
  "orig_nbformat": 4,
  "vscode": {
   "interpreter": {
    "hash": "76d7c06053c3456e5600312cec90888656fc0ed30c03d8425b9dac6e4fc8e014"
   }
  }
 },
 "nbformat": 4,
 "nbformat_minor": 2
}
