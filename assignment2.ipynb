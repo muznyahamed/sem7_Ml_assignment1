{
 "cells": [
  {
   "cell_type": "code",
   "execution_count": 15,
   "metadata": {},
   "outputs": [],
   "source": [
    "import pandas as pd\n",
    "from sklearn.decomposition import PCA\n",
    "import scipy.io\n",
    "\n",
    "# Load the .mat file\n",
    "mat_file = scipy.io.loadmat('data2.mat')\n",
    "\n",
    "# Access the data in the file\n",
    "data = mat_file['DataMatrix'][()]\n",
    "df = pd.DataFrame(data)\n",
    "pca = PCA(n_components=2)\n",
    "pca.fit(df)\n",
    "df_pca = pca.transform(df)\n"
   ]
  },
  {
   "cell_type": "code",
   "execution_count": 16,
   "metadata": {},
   "outputs": [
    {
     "data": {
      "text/plain": [
       "array([[-1.83927267, -0.86601633],\n",
       "       [ 0.27938807, -0.59333744],\n",
       "       [-2.68894328,  2.84696723],\n",
       "       [-2.54963432,  2.3883723 ],\n",
       "       [-3.46224642,  3.4534834 ],\n",
       "       [-1.53973434,  2.06803839],\n",
       "       [-3.34493228,  3.0780231 ],\n",
       "       [-0.87134738, -0.59249404],\n",
       "       [-2.73405338,  1.92489733],\n",
       "       [-1.9491905 ,  0.64138858],\n",
       "       [-1.35123158,  0.17308056],\n",
       "       [ 1.56415315,  0.86084819],\n",
       "       [-1.16486831,  1.38064766],\n",
       "       [-4.80780128,  3.44325164],\n",
       "       [ 0.65006557, -2.27237683],\n",
       "       [-2.35126141,  1.54039635],\n",
       "       [-1.82924289, -1.33856744],\n",
       "       [-0.82068502,  0.1348252 ],\n",
       "       [ 2.03137505, -3.94224748],\n",
       "       [-0.49457386, -1.67754825],\n",
       "       [ 0.35563691, -1.94382193],\n",
       "       [-0.301674  ,  1.69584022],\n",
       "       [-2.61893389,  4.8398842 ],\n",
       "       [-4.29118323,  4.38994462],\n",
       "       [-1.82830592,  4.36407554],\n",
       "       [-3.03513917,  0.89869126],\n",
       "       [-0.60622319,  1.08103651],\n",
       "       [ 2.51960059, -3.94187477],\n",
       "       [ 5.39168822, -2.85853491],\n",
       "       [ 0.52457642,  2.35561935],\n",
       "       [ 2.39704027, -5.10430514],\n",
       "       [-0.25031341, -3.0312947 ],\n",
       "       [ 1.75802058, -2.0628394 ],\n",
       "       [ 0.72914924, -4.07967086],\n",
       "       [ 2.13336421, -3.60879669],\n",
       "       [ 0.31089713, -1.86882104],\n",
       "       [ 1.85046343, -4.98611177],\n",
       "       [ 3.07968688, -1.56371128],\n",
       "       [20.27839944,  8.95845395],\n",
       "       [-0.47771496, -3.29880246],\n",
       "       [ 1.35500152, -2.88659282]])"
      ]
     },
     "execution_count": 16,
     "metadata": {},
     "output_type": "execute_result"
    }
   ],
   "source": [
    "df_pca"
   ]
  },
  {
   "cell_type": "code",
   "execution_count": null,
   "metadata": {},
   "outputs": [],
   "source": []
  }
 ],
 "metadata": {
  "kernelspec": {
   "display_name": "Python 3",
   "language": "python",
   "name": "python3"
  },
  "language_info": {
   "codemirror_mode": {
    "name": "ipython",
    "version": 3
   },
   "file_extension": ".py",
   "mimetype": "text/x-python",
   "name": "python",
   "nbconvert_exporter": "python",
   "pygments_lexer": "ipython3",
   "version": "3.10.8"
  },
  "orig_nbformat": 4,
  "vscode": {
   "interpreter": {
    "hash": "76d7c06053c3456e5600312cec90888656fc0ed30c03d8425b9dac6e4fc8e014"
   }
  }
 },
 "nbformat": 4,
 "nbformat_minor": 2
}
