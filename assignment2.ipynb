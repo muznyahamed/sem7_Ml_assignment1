{
 "cells": [
  {
   "cell_type": "code",
   "execution_count": null,
   "metadata": {},
   "outputs": [],
   "source": [
    "import pandas as pd\n",
    "import matplotlib.pyplot as plt\n",
    "from sklearn.preprocessing import MinMaxScaler\n",
    "\n",
    "from sklearn.decomposition import PCA\n",
    "import scipy.io\n",
    "import numpy as np\n",
    "\n",
    "\n",
    "# Load the .mat file\n",
    "mat_file = scipy.io.loadmat('data2.mat')\n",
    "\n",
    "# Access the data in the file\n",
    "data = mat_file['DataMatrix'][()]\n",
    "df = pd.DataFrame(data)\n",
    "init_data= df\n",
    "init_data1= df\n",
    "df.drop(df.columns[27], axis=1)\n"
   ]
  },
  {
   "cell_type": "markdown",
   "metadata": {},
   "source": [
    "### Perform principal component analysis (PCA) on the data \n",
    "and describe the results.\n"
   ]
  },
  {
   "cell_type": "markdown",
   "metadata": {},
   "source": []
  },
  {
   "cell_type": "code",
   "execution_count": null,
   "metadata": {},
   "outputs": [],
   "source": [
    "pca = PCA()\n",
    "X_reduced = pca.fit_transform(df)\n",
    "\n",
    "# Get explained variance ratio\n",
    "explained_variance_ratio = pca.explained_variance_ratio_\n",
    "\n",
    "# Plot the histogram\n",
    "# here we have to \n",
    "plt.bar(np.arange(len(explained_variance_ratio)), explained_variance_ratio, color='blue')\n",
    "\n",
    "# Add axis labels and title\n",
    "plt.xlabel('Column Index')\n",
    "plt.ylabel('Explained Variance Ratio')\n",
    "plt.title('Explained Variance Ratio of Principal Components')\n",
    "plt.xticks(np.arange(len(explained_variance_ratio)))\n",
    "\n",
    "# Show the plot\n",
    "plt.show()"
   ]
  },
  {
   "cell_type": "code",
   "execution_count": null,
   "metadata": {},
   "outputs": [],
   "source": [
    "pca = PCA(n_components=7)\n",
    "X_reduced = pca.fit_transform(df)\n",
    "\n",
    "# Get explained variance ratio\n",
    "explained_variance_ratio = pca.explained_variance_ratio_\n",
    "cumulative_variance = pca.explained_variance_ratio_.cumsum()\n",
    "\n",
    "\n",
    "# Plot the histogram\n",
    "# here we have to \n",
    "plt.bar(np.arange(len(explained_variance_ratio)), explained_variance_ratio*100, color='blue')\n",
    "\n",
    "# Add axis labels and title\n",
    "plt.xlabel('Column Index')\n",
    "plt.ylabel('Explained Variance Ratio')\n",
    "plt.title('Explained Variance Ratio of Principal Components')\n",
    "plt.xticks(np.arange(len(explained_variance_ratio)))\n",
    "\n",
    "# Show the plot\n",
    "plt.show()"
   ]
  },
  {
   "cell_type": "code",
   "execution_count": null,
   "metadata": {},
   "outputs": [],
   "source": [
    "plt.bar(np.arange(len(cumulative_variance)), cumulative_variance*100, color='blue')\n",
    "\n",
    "# Add axis labels and title\n",
    "plt.xlabel('Column Index')\n",
    "plt.ylabel('Explained Variance Ratio')\n",
    "plt.title('Explained Variance Ratio of Principal Components')\n",
    "plt.xticks(np.arange(len(cumulative_variance)))\n",
    "\n",
    "# Show the plot\n",
    "plt.show()"
   ]
  },
  {
   "cell_type": "code",
   "execution_count": null,
   "metadata": {},
   "outputs": [],
   "source": [
    "pca = PCA(n_components=2)\n",
    "X_reduced = pca.fit_transform(init_data)\n",
    "\n",
    "# Get explained variance ratio\n",
    "explained_variance_ratio = pca.explained_variance_ratio_\n",
    "cumulative_variance = pca.explained_variance_ratio_.cumsum()\n",
    "\n",
    "\n",
    "# Plot the histogram\n",
    "# here we have to \n",
    "plt.bar(np.arange(len(explained_variance_ratio)), explained_variance_ratio*100, color='blue')\n",
    "\n",
    "# Add axis labels and title\n",
    "plt.xlabel('Column Index')\n",
    "plt.ylabel('Explained Variance Ratio')\n",
    "plt.title('Explained Variance Ratio of Principal Components')\n",
    "plt.xticks(np.arange(len(explained_variance_ratio)))\n",
    "\n",
    "# Show the plot\n",
    "plt.show()"
   ]
  },
  {
   "cell_type": "code",
   "execution_count": null,
   "metadata": {},
   "outputs": [],
   "source": [
    "X_reduced"
   ]
  },
  {
   "cell_type": "code",
   "execution_count": null,
   "metadata": {},
   "outputs": [],
   "source": [
    "x = X_reduced[:,0]\n",
    "y = X_reduced[:,0]\n",
    "# Plot the data\n",
    "plt.scatter(x, y)\n",
    "plt.xlabel('Column 1')\n",
    "plt.ylabel('Column 2')\n",
    "plt.show()"
   ]
  },
  {
   "cell_type": "code",
   "execution_count": null,
   "metadata": {},
   "outputs": [],
   "source": [
    "columns = ['feacture1','feacture2' ,'label']\n",
    "label_added = pd.DataFrame(columns=columns)\n",
    "label_added[\"feacture1\"]= X_reduced[:,0]\n",
    "label_added[\"feacture2\"]= X_reduced[:,1]\n",
    "data = mat_file['DataMatrix'][()]\n",
    "df = pd.DataFrame(data)\n",
    "label_added[\"label\"]=init_data.iloc[:,27]\n",
    "\n",
    "label_added\n"
   ]
  },
  {
   "cell_type": "code",
   "execution_count": null,
   "metadata": {},
   "outputs": [],
   "source": [
    "import matplotlib.pyplot as plt\n",
    "from mpl_toolkits.mplot3d import Axes3D\n",
    "\n",
    "# Create a 3D axis\n",
    "fig = plt.figure()\n",
    "ax = fig.add_subplot(111, projection='3d')\n",
    "\n",
    "# Use the 'plot' function to plot the dataframe data\n",
    "# assuming the dataframe has columns 'x', 'y', and 'z'\n",
    "ax.scatter(label_added[\"feacture1\"], label_added[\"feacture2\"], label_added[\"label\"])\n",
    "\n",
    "# Add labels for the x, y, and z axis\n",
    "ax.set_xlabel('X')\n",
    "ax.set_ylabel('Y')\n",
    "ax.set_zlabel('Z')\n",
    "\n",
    "plt.show()"
   ]
  },
  {
   "cell_type": "code",
   "execution_count": null,
   "metadata": {},
   "outputs": [],
   "source": [
    "x = label_added[\"feacture1\"]\n",
    "y = label_added[\"feacture2\"]\n",
    "# Plot the data\n",
    "plt.scatter(x, y)\n",
    "plt.xlabel('Column 1')\n",
    "plt.ylabel('Column 2')\n",
    "plt.show()"
   ]
  },
  {
   "cell_type": "code",
   "execution_count": null,
   "metadata": {},
   "outputs": [],
   "source": [
    "mat_file = scipy.io.loadmat('data2.mat')\n",
    "\n",
    "# Access the data in the file\n",
    "data = mat_file['DataMatrix'][()]\n",
    "df = pd.DataFrame(data)\n",
    "df.drop(df.columns[27], axis=1)\n",
    "\n"
   ]
  },
  {
   "cell_type": "code",
   "execution_count": null,
   "metadata": {},
   "outputs": [],
   "source": [
    "from sklearn.preprocessing import StandardScaler\n",
    "\n",
    "scaler = StandardScaler()\n",
    "scaler.fit(df)\n",
    "data_frame = scaler.transform(df)\n",
    "\n"
   ]
  },
  {
   "cell_type": "code",
   "execution_count": null,
   "metadata": {},
   "outputs": [],
   "source": [
    "from scipy import stats\n",
    "\n",
    "data_frame = data_frame[(np.abs(stats.zscore(data_frame)) < 3).all(axis=1)]\n"
   ]
  },
  {
   "cell_type": "code",
   "execution_count": null,
   "metadata": {},
   "outputs": [],
   "source": [
    "data_frame=pd.DataFrame(data_frame)"
   ]
  },
  {
   "cell_type": "markdown",
   "metadata": {},
   "source": [
    "### Preprocess your data using techniques that were \n",
    "discussed in class (or you may use another technique). \n",
    "Compare the results of PCA with and without \n",
    "preprocessing."
   ]
  },
  {
   "cell_type": "code",
   "execution_count": null,
   "metadata": {},
   "outputs": [],
   "source": [
    "### loading initial data from\n",
    "\n"
   ]
  },
  {
   "cell_type": "code",
   "execution_count": null,
   "metadata": {},
   "outputs": [],
   "source": []
  },
  {
   "cell_type": "code",
   "execution_count": null,
   "metadata": {},
   "outputs": [],
   "source": [
    "### clheck for null\n",
    "init_data.isnull().sum()\n",
    "init_data.drop(init_data.columns[27], axis=1)\n"
   ]
  },
  {
   "cell_type": "code",
   "execution_count": null,
   "metadata": {},
   "outputs": [],
   "source": [
    "pca = PCA()\n",
    "X_reduced27 = pca.fit_transform(init_data)\n",
    "\n",
    "# Get explained variance ratio\n",
    "explained_variance_ratio = pca.explained_variance_ratio_\n",
    "\n",
    "# Plot the histogram\n",
    "# here we have to \n",
    "plt.bar(np.arange(len(explained_variance_ratio)), explained_variance_ratio, color='blue')\n",
    "\n",
    "# Add axis labels and title\n",
    "plt.xlabel('Column Index')\n",
    "plt.ylabel('Explained Variance Ratio')\n",
    "plt.title('Explained Variance Ratio of Principal Components')\n",
    "plt.xticks(np.arange(len(explained_variance_ratio)))\n",
    "\n",
    "# Show the plot\n",
    "plt.show()"
   ]
  },
  {
   "cell_type": "code",
   "execution_count": null,
   "metadata": {},
   "outputs": [],
   "source": [
    "pca = PCA(n_components=7)\n",
    "X_reduced = pca.fit_transform(init_data)\n",
    "\n",
    "# Get explained variance ratio\n",
    "explained_variance_ratio = pca.explained_variance_ratio_\n",
    "cumulative_variance = pca.explained_variance_ratio_.cumsum()\n",
    "\n",
    "\n",
    "# Plot the histogram\n",
    "# here we have to \n",
    "plt.bar(np.arange(len(explained_variance_ratio)), explained_variance_ratio*100, color='blue')\n",
    "\n",
    "# Add axis labels and title\n",
    "plt.xlabel('Column Index')\n",
    "plt.ylabel('Explained Variance Ratio')\n",
    "plt.title('Explained Variance Ratio of Principal Components')\n",
    "plt.xticks(np.arange(len(explained_variance_ratio)))\n",
    "\n",
    "# Show the plot\n",
    "plt.show()"
   ]
  },
  {
   "cell_type": "code",
   "execution_count": null,
   "metadata": {},
   "outputs": [],
   "source": [
    "plt.bar(np.arange(len(cumulative_variance)), cumulative_variance*100, color='blue')\n",
    "\n",
    "# Add axis labels and title\n",
    "plt.xlabel('Column Index')\n",
    "plt.ylabel('Explained Variance Ratio')\n",
    "plt.title('Explained Variance Ratio of Principal Components')\n",
    "plt.xticks(np.arange(len(cumulative_variance)))\n",
    "\n",
    "# Show the plot\n",
    "plt.show()"
   ]
  },
  {
   "cell_type": "code",
   "execution_count": null,
   "metadata": {},
   "outputs": [],
   "source": [
    "X_reduced27"
   ]
  },
  {
   "cell_type": "code",
   "execution_count": null,
   "metadata": {},
   "outputs": [],
   "source": [
    "import matplotlib.pyplot as plt\n",
    "import seaborn as sns\n",
    "\n",
    "# Load the data into a Pandas DataFrame\n",
    "data = init_data\n",
    "\n",
    "# Create a figure with 4 rows and 7 columns\n",
    "fig, axes = plt.subplots(nrows=4, ncols=7, figsize=(30, 20))\n",
    "\n",
    "# Plot histograms and statistics for each column\n",
    "for i, column in enumerate(data.columns):\n",
    "    ax = axes[i//7, i%7]\n",
    "    sns.histplot(data[column], kde=True, ax=ax)\n",
    "    ax.set_title(column)\n",
    "    ax.set_xlabel(\"Value\")\n",
    "    ax.set_ylabel(\"Frequency\")\n",
    "    ax.text(0.8, 0.9, f\"Mean: {data[column].mean():.2f}\", ha=\"center\", va=\"center\", transform=ax.transAxes)\n",
    "    ax.text(0.8, 0.8, f\"Std: {data[column].std():.2f}\", ha=\"center\", va=\"center\", transform=ax.transAxes)"
   ]
  },
  {
   "cell_type": "markdown",
   "metadata": {},
   "source": [
    "### Are there outliers in your data? How do you handle these? \n",
    "Replot the PCA graphs after these outliers are removed. \n",
    "Discuss if it improved the data"
   ]
  },
  {
   "cell_type": "code",
   "execution_count": null,
   "metadata": {},
   "outputs": [],
   "source": [
    "\n",
    "\n",
    "# load the data\n",
    "data = init_data1\n",
    "\n",
    "# calculate the z-score for each column\n",
    "z_scores = (data - data.mean()) / data.std()\n",
    "\n",
    "# identify the outliers\n",
    "outliers = data[(np.abs(z_scores) > 3).any(axis=1)]\n",
    "\n",
    "# remove the outliers from the data\n",
    "data_no_outliers = data[(np.abs(z_scores) <= 3).all(axis=1)]\n"
   ]
  },
  {
   "cell_type": "code",
   "execution_count": null,
   "metadata": {},
   "outputs": [],
   "source": [
    "outliers"
   ]
  },
  {
   "attachments": {},
   "cell_type": "markdown",
   "metadata": {},
   "source": [
    "### Now, use the labels data and plot the different classes in \n",
    "different colours/symbols as shown below\n",
    "* If your index number is an odd number (digit D), group \n",
    "class 1 and class 3 together (positive class), and class 2 and \n",
    "class 4 together (negative class).\n",
    "* If your index number is an even number (digit D) group \n",
    "class 1 and class 2 together (positive class), and class 3 and \n",
    "class 4 together (negative class)."
   ]
  },
  {
   "cell_type": "code",
   "execution_count": null,
   "metadata": {},
   "outputs": [],
   "source": [
    "\n",
    "\n",
    "# Load the data into a Pandas DataFrame\n",
    "data = init_data1\n",
    "\n",
    "# Assign the labels to a variable\n",
    "labels = data.iloc[:,27]\n",
    "\n",
    "# Create a scatter plot with different colors for each label\n",
    "sns.scatterplot(data=data.iloc[:,:7], x=data.columns[0], y=data.columns[1], hue=labels)\n",
    "\n",
    "# Show the plot\n",
    "plt.show()\n"
   ]
  },
  {
   "cell_type": "code",
   "execution_count": null,
   "metadata": {},
   "outputs": [],
   "source": [
    "labels_df = pd.DataFrame(labels,columns=['label'])\n",
    "data_with_label = pd.concat([data.iloc[:,:7], labels_df], axis=1)\n",
    "parallel_coordinates(data_with_label, class_column='label')\n"
   ]
  },
  {
   "attachments": {},
   "cell_type": "markdown",
   "metadata": {},
   "source": [
    "\n",
    "What do you observe in the plots in terms of class \n",
    "separation? "
   ]
  },
  {
   "attachments": {},
   "cell_type": "markdown",
   "metadata": {},
   "source": [
    "based on above how many PCs would you recommend for \n",
    "this data? Is PCA a suitable method for this data? Discuss \n",
    "and justify your answers.\n"
   ]
  }
 ],
 "metadata": {
  "kernelspec": {
   "display_name": "Python 3 (ipykernel)",
   "language": "python",
   "name": "python3"
  },
  "language_info": {
   "codemirror_mode": {
    "name": "ipython",
    "version": 3
   },
   "file_extension": ".py",
   "mimetype": "text/x-python",
   "name": "python",
   "nbconvert_exporter": "python",
   "pygments_lexer": "ipython3",
   "version": "3.9.7"
  },
  "vscode": {
   "interpreter": {
    "hash": "a2ab3825ac7005fb7b26f112e9c99ae62f464c629e30b0d534c3b931b6cbc3ff"
   }
  }
 },
 "nbformat": 4,
 "nbformat_minor": 2
}
