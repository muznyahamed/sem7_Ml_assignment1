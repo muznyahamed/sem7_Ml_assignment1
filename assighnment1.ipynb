{
 "cells": [
  {
   "cell_type": "code",
   "execution_count": null,
   "metadata": {},
   "outputs": [],
   "source": [
    "import matplotlib.pyplot as plt\n",
    "import pandas as pd\n",
    "from sklearn.linear_model import LinearRegression\n",
    "# Load the data from the CSV file\n",
    "data = pd.read_csv('data1.txt',header=0)\n",
    "data = data.dropna()\n",
    "# Extract the two columns to be plotted\n",
    "x = data['feature']\n",
    "y = data['output']\n",
    "# Plot the data\n",
    "plt.scatter(x, y)\n",
    "plt.xlabel('Column 1')\n",
    "plt.ylabel('Column 2')\n",
    "plt.show()"
   ]
  },
  {
   "cell_type": "code",
   "execution_count": null,
   "metadata": {},
   "outputs": [],
   "source": [
    "columns = ['W','B' ,'cost']\n",
    "itterations = pd.DataFrame(columns=columns)\n",
    "import numpy as np"
   ]
  },
  {
   "cell_type": "code",
   "execution_count": 18,
   "metadata": {},
   "outputs": [
    {
     "name": "stdout",
     "output_type": "stream",
     "text": [
      "Cost at iteration 0 : 445596.3975708927\n",
      "Cost at iteration 100 : 2921.885106523498\n",
      "Cost at iteration 200 : 76.09760616434339\n",
      "Cost at iteration 300 : 57.80292107613225\n",
      "Cost at iteration 400 : 57.68511979055348\n",
      "Cost at iteration 500 : 57.68417084271664\n",
      "Cost at iteration 600 : 57.68397310890605\n",
      "Cost at iteration 700 : 57.683780218830236\n",
      "Cost at iteration 800 : 57.683587374355355\n",
      "Cost at iteration 900 : 57.683394544634865\n",
      "Cost at iteration 1000 : 57.68320172946941\n",
      "Cost at iteration 1100 : 57.68300892885664\n",
      "Cost at iteration 1200 : 57.68281614279538\n",
      "Cost at iteration 1300 : 57.6826233712846\n",
      "Cost at iteration 1400 : 57.68243061432315\n",
      "Cost at iteration 1500 : 57.682237871909976\n",
      "Cost at iteration 1600 : 57.68204514404394\n",
      "Cost at iteration 1700 : 57.68185243072398\n",
      "Cost at iteration 1800 : 57.68165973194897\n",
      "Cost at iteration 1900 : 57.68146704771781\n"
     ]
    }
   ],
   "source": [
    "\n",
    "# Define the cost function and its derivatives\n",
    "def cost(x, y, w, b):\n",
    "    m = len(y)\n",
    "    predictions = np.dot(x, w) + b\n",
    "    cost = (1/(2*m)) * np.sum(np.square(predictions-y))\n",
    "    return cost\n",
    "\n",
    "def cost_derivative_w(x, y, w, b):\n",
    "    m = len(y)\n",
    "    predictions = np.dot(x, w) + b\n",
    "    derivative = (1/m) * np.dot(x.T, predictions-y)\n",
    "    return derivative\n",
    "\n",
    "def cost_derivative_b(x, y, w, b):\n",
    "    m = len(y)\n",
    "    predictions = np.dot(x, w) + b\n",
    "    derivative = (1/m) * np.sum(predictions-y)\n",
    "    return derivative\n",
    "\n",
    "# Initialize weights and biases\n",
    "w = 20\n",
    "b = 20\n",
    "\n",
    "# Define the learning rate\n",
    "alpha = 0.00001\n",
    "\n",
    "# Perform gradient descent\n",
    "for i in range(2000):\n",
    "    # Calculate the cost and derivatives\n",
    "    current_cost = cost(x, y, w, b)\n",
    "    dw = cost_derivative_w(x, y, w, b)\n",
    "    db = cost_derivative_b(x, y, w, b)\n",
    "    \n",
    "    # Update the weights and biases\n",
    "    w = w - alpha * dw\n",
    "    b = b - alpha * db\n",
    "    itterations.loc[len(itterations)]=[w,b,current_cost]\n",
    "    \n",
    "    # Print the cost every 100 iterations\n",
    "    if i % 100 == 0:\n",
    "        print(\"Cost at iteration\", i, \":\", current_cost)\n",
    "    \n",
    "\n"
   ]
  },
  {
   "cell_type": "code",
   "execution_count": null,
   "metadata": {},
   "outputs": [],
   "source": [
    "itterations"
   ]
  },
  {
   "cell_type": "code",
   "execution_count": null,
   "metadata": {},
   "outputs": [],
   "source": [
    "x = itterations['W']\n",
    "y = itterations['cost']\n",
    "# Plot the data\n",
    "plt.plot(x, y,\"r--\")\n",
    "plt.xlabel('Column 1')\n",
    "plt.ylabel('Column 2')\n",
    "plt.show()"
   ]
  },
  {
   "cell_type": "code",
   "execution_count": null,
   "metadata": {},
   "outputs": [],
   "source": [
    "print(\"done\")"
   ]
  },
  {
   "cell_type": "code",
   "execution_count": null,
   "metadata": {},
   "outputs": [],
   "source": [
    "itterations"
   ]
  },
  {
   "cell_type": "code",
   "execution_count": null,
   "metadata": {},
   "outputs": [],
   "source": [
    "import pandas as pd\n",
    "import matplotlib.pyplot as plt\n",
    "from mpl_toolkits.mplot3d import Axes3D\n",
    "\n",
    "# Create a sample dataframe\n",
    "df = pd.DataFrame({'W': [0, 1, 2, 3, 4], 'B': [1, 2, 3, 4, 5], 'cost': [1, 2, 3, 4, 5]})\n",
    "\n",
    "# Create a 3D figure\n",
    "fig = plt.figure()\n",
    "ax = fig.add_subplot(111, projection='3d')\n",
    "cost = df['cost'].values\n",
    "cost = cost.reshape(df.shape[0],1)\n",
    "# Plot the data\n",
    "ax.plot_surface(itterations['W'], itterations['B'], cost)\n",
    "\n",
    "# Set labels and title\n",
    "ax.set_xlabel('W')\n",
    "ax.set_ylabel('B')\n",
    "ax.set_zlabel('Cost')\n",
    "plt.title('Gradient Descent')\n",
    "\n",
    "# Show the plot\n",
    "plt.show()\n"
   ]
  },
  {
   "cell_type": "code",
   "execution_count": null,
   "metadata": {},
   "outputs": [],
   "source": [
    "import matplotlib.pyplot as plt\n",
    "from mpl_toolkits.mplot3d import Axes3D\n",
    "\n",
    "# Create a 3D axis\n",
    "fig = plt.figure()\n",
    "ax = fig.add_subplot(111, projection='3d')\n",
    "\n",
    "# Use the 'plot' function to plot the dataframe data\n",
    "# assuming the dataframe has columns 'x', 'y', and 'z'\n",
    "ax.scatter(itterations['W'], itterations['B'], itterations['cost'])\n",
    "\n",
    "# Add labels for the x, y, and z axis\n",
    "ax.set_xlabel('X')\n",
    "ax.set_ylabel('Y')\n",
    "ax.set_zlabel('Z')\n",
    "\n",
    "plt.show()"
   ]
  },
  {
   "cell_type": "code",
   "execution_count": null,
   "metadata": {},
   "outputs": [],
   "source": [
    "itterations.loc[len(itterations)-1,\"W\"]"
   ]
  },
  {
   "cell_type": "code",
   "execution_count": null,
   "metadata": {},
   "outputs": [],
   "source": [
    "arr = np.arange(10,71,1)\n",
    "\n",
    "x = data['feature']\n",
    "y = data['output']\n",
    "# Plot the data\n",
    "plt.scatter(x, y)\n",
    "plt.xlabel('Column 1')\n",
    "plt.ylabel('Column 2')\n",
    "plt.plot(arr, arr*itterations.loc[len(itterations)-1,\"W\"] + itterations.loc[len(itterations)-1,\"W\"], 'r-')\n",
    "\n",
    "plt.show()\n",
    "\n"
   ]
  },
  {
   "cell_type": "code",
   "execution_count": null,
   "metadata": {},
   "outputs": [],
   "source": []
  }
 ],
 "metadata": {
  "kernelspec": {
   "display_name": "base",
   "language": "python",
   "name": "python3"
  },
  "language_info": {
   "codemirror_mode": {
    "name": "ipython",
    "version": 3
   },
   "file_extension": ".py",
   "mimetype": "text/x-python",
   "name": "python",
   "nbconvert_exporter": "python",
   "pygments_lexer": "ipython3",
   "version": "3.9.7 (default, Sep 16 2021, 16:59:28) [MSC v.1916 64 bit (AMD64)]"
  },
  "orig_nbformat": 4,
  "vscode": {
   "interpreter": {
    "hash": "a2ab3825ac7005fb7b26f112e9c99ae62f464c629e30b0d534c3b931b6cbc3ff"
   }
  }
 },
 "nbformat": 4,
 "nbformat_minor": 2
}
